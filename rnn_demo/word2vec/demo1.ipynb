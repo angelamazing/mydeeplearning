{
 "cells": [
  {
   "cell_type": "code",
   "execution_count": 1,
   "id": "698b2a12",
   "metadata": {},
   "outputs": [],
   "source": [
    "max_vocabulary_size = 50000 # 语料库最大词语数\n",
    "min_occurrence = 10 # 最小词频"
   ]
  },
  {
   "cell_type": "code",
   "execution_count": null,
   "id": "6456bb04",
   "metadata": {},
   "outputs": [],
   "source": [
    "data_path = 'text8.zip'"
   ]
  }
 ],
 "metadata": {
  "kernelspec": {
   "display_name": "Python 3 (ipykernel)",
   "language": "python",
   "name": "python3"
  },
  "language_info": {
   "codemirror_mode": {
    "name": "ipython",
    "version": 3
   },
   "file_extension": ".py",
   "mimetype": "text/x-python",
   "name": "python",
   "nbconvert_exporter": "python",
   "pygments_lexer": "ipython3",
   "version": "3.9.0"
  }
 },
 "nbformat": 4,
 "nbformat_minor": 5
}
