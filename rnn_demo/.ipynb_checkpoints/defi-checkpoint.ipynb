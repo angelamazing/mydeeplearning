{
 "cells": [
  {
   "cell_type": "code",
   "execution_count": 1,
   "id": "b8f06f60",
   "metadata": {},
   "outputs": [],
   "source": [
    "import torch\n",
    "import torch.nn as nn"
   ]
  },
  {
   "cell_type": "code",
   "execution_count": 2,
   "id": "cb5ae85c",
   "metadata": {},
   "outputs": [],
   "source": [
    "input_size = 100   # 输入数据编码的维度\n",
    "hidden_size = 20   # 隐含层维度\n",
    "num_layers = 4     # 隐含层层数"
   ]
  },
  {
   "cell_type": "code",
   "execution_count": 3,
   "id": "d0fff9a7",
   "metadata": {},
   "outputs": [
    {
     "name": "stdout",
     "output_type": "stream",
     "text": [
      "rnn: RNN(100, 20, num_layers=4)\n"
     ]
    }
   ],
   "source": [
    "rnn = nn.RNN(input_size=input_size,hidden_size=hidden_size,num_layers=num_layers)\n",
    "print(\"rnn:\",rnn)"
   ]
  },
  {
   "cell_type": "code",
   "execution_count": 4,
   "id": "7d36b5de",
   "metadata": {},
   "outputs": [],
   "source": [
    "seq_len = 10        # 句子长度\n",
    "batch_size = 1      \n",
    "x = torch.randn(seq_len,batch_size,input_size)        # 输入数据\n",
    "h0 = torch.zeros(num_layers,batch_size,hidden_size)   # 输入数据"
   ]
  },
  {
   "cell_type": "code",
   "execution_count": 5,
   "id": "8246def9",
   "metadata": {},
   "outputs": [],
   "source": [
    "out, h = rnn(x, h0)  # 输出数据"
   ]
  },
  {
   "cell_type": "code",
   "execution_count": 6,
   "id": "ff8bc4ba",
   "metadata": {},
   "outputs": [
    {
     "name": "stdout",
     "output_type": "stream",
     "text": [
      "out.shape: torch.Size([10, 1, 20])\n",
      "h.shape: torch.Size([4, 1, 20])\n"
     ]
    }
   ],
   "source": [
    "print(\"out.shape:\",out.shape)\n",
    "print(\"h.shape:\",h.shape)"
   ]
  },
  {
   "cell_type": "code",
   "execution_count": null,
   "id": "121f78ef",
   "metadata": {},
   "outputs": [],
   "source": []
  }
 ],
 "metadata": {
  "kernelspec": {
   "display_name": "Python 3 (ipykernel)",
   "language": "python",
   "name": "python3"
  },
  "language_info": {
   "codemirror_mode": {
    "name": "ipython",
    "version": 3
   },
   "file_extension": ".py",
   "mimetype": "text/x-python",
   "name": "python",
   "nbconvert_exporter": "python",
   "pygments_lexer": "ipython3",
   "version": "3.9.0"
  }
 },
 "nbformat": 4,
 "nbformat_minor": 5
}
